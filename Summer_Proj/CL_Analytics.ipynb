{
 "cells": [
  {
   "cell_type": "markdown",
   "id": "774ab0dc",
   "metadata": {},
   "source": [
    "## Champions League Data Analytics (2010-2022) ⚽️\n",
    "- Data cleansing\n",
    "- Descriptive Analytics\n",
    "- Forecasting"
   ]
  },
  {
   "cell_type": "markdown",
   "id": "706ffb8b",
   "metadata": {},
   "source": [
    "## Import Dataset and Libraries"
   ]
  },
  {
   "cell_type": "code",
   "execution_count": 106,
   "id": "10fc455b",
   "metadata": {},
   "outputs": [],
   "source": [
    "import pandas as pd\n",
    "import numpy as np\n",
    "\n",
    "df_attacking = pd.read_csv(f'/Users/sandeepk/Desktop/DS_Workshop/Summer_Proj/UCL Datasets Folder/attacking.csv')\n",
    "df_attampts = pd.read_csv(f'/Users/sandeepk/Desktop/DS_Workshop/Summer_Proj/UCL Datasets Folder/attempts.csv')\n",
    "df_defending = pd.read_csv(f'/Users/sandeepk/Desktop/DS_Workshop/Summer_Proj/UCL Datasets Folder/defending.csv')\n",
    "df_disciplinary = pd.read_csv(f'/Users/sandeepk/Desktop/DS_Workshop/Summer_Proj/UCL Datasets Folder/disciplinary.csv')\n",
    "df_distributon = pd.read_csv(f'/Users/sandeepk/Desktop/DS_Workshop/Summer_Proj/UCL Datasets Folder/distributon.csv')\n",
    "df_goalkeeping = pd.read_csv(f'/Users/sandeepk/Desktop/DS_Workshop/Summer_Proj/UCL Datasets Folder/goalkeeping.csv')\n",
    "df_goals = pd.read_csv(f'/Users/sandeepk/Desktop/DS_Workshop/Summer_Proj/UCL Datasets Folder/goals.csv')\n",
    "df_key_stats = pd.read_csv(f'/Users/sandeepk/Desktop/DS_Workshop/Summer_Proj/UCL Datasets Folder/key_stats.csv')"
   ]
  },
  {
   "cell_type": "code",
   "execution_count": 177,
   "id": "9352ea51",
   "metadata": {},
   "outputs": [],
   "source": [
    "#Recieve na reporting\n",
    "ls = list(df_attacking.columns)\n",
    "for x in ls:\n",
    "  if sum(df_attacking[x].isna()) > 0:\n",
    "    print(x)\n",
    "    print(sum(df_attacking[x].isna()))\n",
    "    print()"
   ]
  },
  {
   "cell_type": "markdown",
   "id": "0ddfc62f",
   "metadata": {},
   "source": [
    "## User Input Based Aggregation\n",
    "- GUI + UX\n",
    "    - Display selected player & team total assists/dribbles \n",
    "    - Position average Comparison to selected player"
   ]
  },
  {
   "cell_type": "code",
   "execution_count": 254,
   "id": "908ae9cd",
   "metadata": {},
   "outputs": [
    {
     "name": "stdout",
     "output_type": "stream",
     "text": [
      "Which player Assists would you like to view? Bruno Fernandes\n"
     ]
    },
    {
     "data": {
      "text/html": [
       "<div>\n",
       "<style scoped>\n",
       "    .dataframe tbody tr th:only-of-type {\n",
       "        vertical-align: middle;\n",
       "    }\n",
       "\n",
       "    .dataframe tbody tr th {\n",
       "        vertical-align: top;\n",
       "    }\n",
       "\n",
       "    .dataframe thead th {\n",
       "        text-align: right;\n",
       "    }\n",
       "</style>\n",
       "<table border=\"1\" class=\"dataframe\">\n",
       "  <thead>\n",
       "    <tr style=\"text-align: right;\">\n",
       "      <th></th>\n",
       "      <th>player_name</th>\n",
       "      <th>position</th>\n",
       "      <th>match_played</th>\n",
       "      <th>assists</th>\n",
       "      <th>Position_Avg</th>\n",
       "    </tr>\n",
       "  </thead>\n",
       "  <tbody>\n",
       "    <tr>\n",
       "      <th>0</th>\n",
       "      <td>Bruno Fernandes</td>\n",
       "      <td>Midfielder</td>\n",
       "      <td>7</td>\n",
       "      <td>7</td>\n",
       "      <td>1.67</td>\n",
       "    </tr>\n",
       "  </tbody>\n",
       "</table>\n",
       "</div>"
      ],
      "text/plain": [
       "       player_name    position  match_played  assists  Position_Avg\n",
       "0  Bruno Fernandes  Midfielder             7        7          1.67"
      ]
     },
     "execution_count": 254,
     "metadata": {},
     "output_type": "execute_result"
    }
   ],
   "source": [
    "choice = input('Which player Assists would you like to view? ')\n",
    "\n",
    "ret = df_attacking[df_attacking['player_name'].str.contains(choice)]\n",
    "ret1 = ret.loc[:,['player_name', 'position', 'match_played', 'assists']]\n",
    "index = ret1['position'].iloc[0]\n",
    "\n",
    "sub = df_attacking.groupby('position').agg({'assists':'mean'}).round(2)\n",
    "ans = sub.loc[index]\n",
    "\n",
    "ret1['Position_Avg'] = ans[0]\n",
    "ret1\n"
   ]
  },
  {
   "cell_type": "code",
   "execution_count": 255,
   "id": "887dacc1",
   "metadata": {},
   "outputs": [
    {
     "data": {
      "image/png": "[encoded data removed]",
      "text/plain": [
       "<Figure size 432x288 with 1 Axes>"
      ]
     },
     "metadata": {},
     "output_type": "display_data"
    }
   ],
   "source": [
    "import matplotlib.pyplot as plt\n",
    "N = 1\n",
    "assi = list(ret1.iloc[:,3])\n",
    "po_avg = list(ret1.iloc[:,4])\n",
    "\n",
    "name = list(ret1.iloc[:,0\n",
    "])\n",
    "\n",
    "player_avg = (assi[0])\n",
    "\n",
    "\n",
    "ind = np.arange(N)  \n",
    "width = 0.25      \n",
    "\n",
    "fig = plt.figure()\n",
    "ax = fig.add_subplot(111)\n",
    "rects1 = ax.bar(ind, player_avg, width, color='royalblue')\n",
    "\n",
    "\n",
    "pos_avg = (po_avg[0])\n",
    "\n",
    "rects2 = ax.bar(ind+width, pos_avg, width, color='seagreen')\n",
    "\n",
    "# add some\n",
    "ax.set_ylabel('Assists')\n",
    "ax.set_title('Player Assists vs. Position Average')\n",
    "\n",
    "ax.set_xticks(ind + width / 0.01)\n",
    "ax.set_xticklabels\n",
    "\n",
    "ax.legend( (rects1[0], rects2[0]), (name[0], 'Position Average') )\n",
    "\n",
    "plt.show()"
   ]
  },
  {
   "cell_type": "markdown",
   "id": "18c37380",
   "metadata": {},
   "source": [
    "```GUI```"
   ]
  },
  {
   "cell_type": "code",
   "execution_count": 147,
   "id": "c796ebd2",
   "metadata": {},
   "outputs": [],
   "source": [
    "import tkinter\n",
    "import tkinter.messagebox\n",
    "\n",
    "class PlayerSearchGUI:\n",
    "    def __init__(self):\n",
    "        self.main_window = tkinter.Tk()\n",
    "        self.top_frame = tkinter.Frame(self.main_window)\n",
    "        self.bottom_frame = tkinter.Frame(self.main_window)\n",
    "        \n",
    "        self.prompt_label = tkinter.Label(self.top_frame,\n",
    "                                         text='Enter a player name')\n",
    "        self.player_entry = tkinter.Entry(self.top_frame,\n",
    "                                         width=10)\n",
    "        \n",
    "        self.prompt_label.pack(side='left')\n",
    "        self.player_entry.pack(side='left')\n",
    "        \n",
    "        self.assist_button = tkinter.Button(self.bottom_frame,\n",
    "                                            text = 'Assists',\n",
    "                                            command = self.assists)\n",
    "        self.dribble_button = tkinter.Button(self.bottom_frame,\n",
    "                                            text = 'Dribbles',\n",
    "                                            command = self.drb)\n",
    "        self.goals_button = tkinter.Button(self.bottom_frame,\n",
    "                                          text = 'Goals',\n",
    "                                          command = self.goals)\n",
    "        self.quit_button = tkinter.Button(self.bottom_frame,\n",
    "                                         text = 'Quit',\n",
    "                                         command = self.main_window.destroy)\n",
    "        \n",
    "        self.assist_button.pack(side='left')\n",
    "        self.dribble_button.pack(side='left')\n",
    "        self.goals_button.pack(side='left')\n",
    "        \n",
    "        self.quit_button.pack(side='left')\n",
    "        \n",
    "        self.top_frame.pack()\n",
    "        self.bottom_frame.pack()\n",
    "        \n",
    "        tkinter.mainloop()\n",
    "        \n",
    "    def assists(self):\n",
    "        choice = self.player_entry.get()\n",
    "        ret = df_attacking[df_attacking['player_name'].str.contains(choice)]\n",
    "        ret1 = ret.loc[:,['player_name', 'position', 'match_played', 'assists']]\n",
    "        index = ret1['position'].iloc[0]\n",
    "\n",
    "        sub = df_attacking.groupby('position').agg({'assists':'mean'}).round(2)\n",
    "        z = list(ret1.loc[:, 'assists'])\n",
    "        tkinter.messagebox.showinfo('Assists:', z[0])\n",
    "        \n",
    "    def drb(self):\n",
    "        choice1 = self.player_entry.get()\n",
    "        ret = df_attacking[df_attacking['player_name'].str.contains(choice1)]\n",
    "        ret3 = ret.loc[:,['player_name', 'dribbles']]\n",
    "        y = list(ret1.loc[:, 'dribbles'])\n",
    "        tkinter.messagebox.showinfo('Dribbles:',y[0])\n",
    "    \n",
    "    def goals(self):\n",
    "        choice2 = self.player_entry.get()\n",
    "        ret = df_goals[df_goals['player_name'].str.contains(choice2)]\n",
    "        ret5 = ret.loc[:,['player_name', 'goals']]\n",
    "        g = list(ret5.loc[:, 'goals'])\n",
    "        tkinter.messagebox.showinfo('Goals:',g[0])\n",
    "        \n",
    "        #Can Expand to Defense, etc.\n",
    "player_search = PlayerSearchGUI()\n",
    "        "
   ]
  },
  {
   "cell_type": "code",
   "execution_count": 179,
   "id": "86ae97a0",
   "metadata": {},
   "outputs": [
    {
     "name": "stdout",
     "output_type": "stream",
     "text": [
      "1) Man. United\n",
      "2) Real Madrid\n",
      "3) Bayern\n",
      "4) Ajax\n",
      "5) Liverpool\n",
      "6) Man. City\n",
      "7) Benfica\n",
      "8) Paris\n",
      "9) Villarreal\n",
      "10) Wolfsburg\n",
      "11) Leipzig\n",
      "12) Dortmund\n",
      "13) Atalanta\n",
      "14) Sheriff\n",
      "15) Chelsea\n",
      "16) Beşiktaş\n",
      "17) Juventus\n",
      "18) Sporting CP\n",
      "19) Zenit\n",
      "20) Salzburg\n",
      "21) Atlético\n",
      "22) LOSC\n",
      "23) Inter\n",
      "24) Club Brugge\n",
      "25) Young Boys\n",
      "26) Dynamo Kyiv\n",
      "27) Sevilla\n",
      "28) Shakhtar Donetsk\n",
      "29) Milan\n",
      "30) Porto\n",
      "31) Barcelona\n",
      "32) Malmö\n",
      "Which team assists would you like to view? 2\n"
     ]
    },
    {
     "data": {
      "text/html": [
       "<div>\n",
       "<style scoped>\n",
       "    .dataframe tbody tr th:only-of-type {\n",
       "        vertical-align: middle;\n",
       "    }\n",
       "\n",
       "    .dataframe tbody tr th {\n",
       "        vertical-align: top;\n",
       "    }\n",
       "\n",
       "    .dataframe thead th {\n",
       "        text-align: right;\n",
       "    }\n",
       "</style>\n",
       "<table border=\"1\" class=\"dataframe\">\n",
       "  <thead>\n",
       "    <tr style=\"text-align: right;\">\n",
       "      <th></th>\n",
       "      <th>assists</th>\n",
       "    </tr>\n",
       "    <tr>\n",
       "      <th>club</th>\n",
       "      <th></th>\n",
       "    </tr>\n",
       "  </thead>\n",
       "  <tbody>\n",
       "    <tr>\n",
       "      <th>Real Madrid</th>\n",
       "      <td>21</td>\n",
       "    </tr>\n",
       "  </tbody>\n",
       "</table>\n",
       "</div>"
      ],
      "text/plain": [
       "             assists\n",
       "club                \n",
       "Real Madrid       21"
      ]
     },
     "execution_count": 179,
     "metadata": {},
     "output_type": "execute_result"
    }
   ],
   "source": [
    "#Team Assist Statistics\n",
    "\n",
    "club_ls = list(df_attacking['club'].unique())\n",
    "i = 1\n",
    "for x in club_ls:\n",
    "    print(f'{i}) {x}')\n",
    "    i+=1\n",
    "choice = int(input(\"Which team assists would you like to view? \"))\n",
    "z = club_ls[choice-1]\n",
    "df_club_sum = df_attacking.groupby('club').agg({'assists': 'sum'})\n",
    "df_club_sum[df_club_sum.index == z]"
   ]
  },
  {
   "cell_type": "markdown",
   "id": "9c0b584d",
   "metadata": {},
   "source": [
    "# Top 5 Assists and Scorers in CL\n",
    "        - Assist Per Match and Goals Per Match Statistics\n",
    "        - Performance statistics"
   ]
  },
  {
   "cell_type": "code",
   "execution_count": 356,
   "id": "97f22f91",
   "metadata": {},
   "outputs": [
    {
     "data": {
      "text/html": [
       "<div>\n",
       "<style scoped>\n",
       "    .dataframe tbody tr th:only-of-type {\n",
       "        vertical-align: middle;\n",
       "    }\n",
       "\n",
       "    .dataframe tbody tr th {\n",
       "        vertical-align: top;\n",
       "    }\n",
       "\n",
       "    .dataframe thead th {\n",
       "        text-align: right;\n",
       "    }\n",
       "</style>\n",
       "<table border=\"1\" class=\"dataframe\">\n",
       "  <thead>\n",
       "    <tr style=\"text-align: right;\">\n",
       "      <th></th>\n",
       "      <th>assists</th>\n",
       "      <th>APM</th>\n",
       "    </tr>\n",
       "    <tr>\n",
       "      <th>player_name</th>\n",
       "      <th></th>\n",
       "      <th></th>\n",
       "    </tr>\n",
       "  </thead>\n",
       "  <tbody>\n",
       "    <tr>\n",
       "      <th>Bruno Fernandes</th>\n",
       "      <td>7</td>\n",
       "      <td>1.00</td>\n",
       "    </tr>\n",
       "    <tr>\n",
       "      <th>Vinícius Júnior</th>\n",
       "      <td>6</td>\n",
       "      <td>0.46</td>\n",
       "    </tr>\n",
       "    <tr>\n",
       "      <th>Sané</th>\n",
       "      <td>6</td>\n",
       "      <td>0.60</td>\n",
       "    </tr>\n",
       "    <tr>\n",
       "      <th>Antony</th>\n",
       "      <td>5</td>\n",
       "      <td>0.71</td>\n",
       "    </tr>\n",
       "    <tr>\n",
       "      <th>Alexander-Arnold</th>\n",
       "      <td>4</td>\n",
       "      <td>0.44</td>\n",
       "    </tr>\n",
       "  </tbody>\n",
       "</table>\n",
       "</div>"
      ],
      "text/plain": [
       "                  assists   APM\n",
       "player_name                    \n",
       "Bruno Fernandes         7  1.00\n",
       "Vinícius Júnior         6  0.46\n",
       "Sané                    6  0.60\n",
       "Antony                  5  0.71\n",
       "Alexander-Arnold        4  0.44"
      ]
     },
     "execution_count": 356,
     "metadata": {},
     "output_type": "execute_result"
    }
   ],
   "source": [
    "#Initiate Assists Per Match Statistic\n",
    "df_attacking['APM'] = (df_attacking['assists']/df_attacking['match_played']).round(2)\n",
    "\n",
    "#Aggregate top Assists players + APM\n",
    "df_top_assists = df_attacking.groupby('player_name').agg({'assists':'sum', 'APM':'sum'})\n",
    "df_top_assists.sort_values(by=['assists'], ascending=False, inplace=True)\n",
    "top5_assists = df_top_assists.head(5)\n",
    "top5_assists"
   ]
  },
  {
   "cell_type": "code",
   "execution_count": 357,
   "id": "8e7327f2",
   "metadata": {},
   "outputs": [
    {
     "data": {
      "image/png": "[encoded data removed]",
      "text/plain": [
       "<Figure size 432x288 with 1 Axes>"
      ]
     },
     "metadata": {},
     "output_type": "display_data"
    }
   ],
   "source": [
    "#Bar Graph Visualization of top 5 Assist + APM CL Players\n",
    "\n",
    "#Data\n",
    "x = top5_assists.index\n",
    "y = top5_as \n",
    "\n",
    "#plt.plot(x, y, color = 'm')\n",
    "# creating the bar plot\n",
    "plt.bar(x, y, color ='maroon',\n",
    "        width = 0.4)\n",
    "plt.title('Top 5 Assists + APM CL Players')\n",
    "plt.ylabel('Assists')\n",
    "plt.xlabel('Player Names')\n",
    "\n",
    "# Add text\n",
    "plt.text(-0.25, 3.5, f'{df_top_assists.iloc[0,1]} APM')\n",
    "plt.text(.75, 3.5, f'{df_top_assists.iloc[1,1]} APM')\n",
    "plt.text(1.78, 3.5, f'{df_top_assists.iloc[2,1]} APM')\n",
    "plt.text(2.78, 3.5, f'{df_top_assists.iloc[3,1]} APM')\n",
    "plt.text(3.78, 3.5, f'{df_top_assists.iloc[4,1]} APM')\n",
    "# Display Graph\n",
    "plt.show()"
   ]
  },
  {
   "cell_type": "code",
   "execution_count": 81,
   "id": "b4068082",
   "metadata": {},
   "outputs": [
    {
     "data": {
      "text/html": [
       "<div>\n",
       "<style scoped>\n",
       "    .dataframe tbody tr th:only-of-type {\n",
       "        vertical-align: middle;\n",
       "    }\n",
       "\n",
       "    .dataframe tbody tr th {\n",
       "        vertical-align: top;\n",
       "    }\n",
       "\n",
       "    .dataframe thead th {\n",
       "        text-align: right;\n",
       "    }\n",
       "</style>\n",
       "<table border=\"1\" class=\"dataframe\">\n",
       "  <thead>\n",
       "    <tr style=\"text-align: right;\">\n",
       "      <th></th>\n",
       "      <th>goals</th>\n",
       "      <th>GPM</th>\n",
       "    </tr>\n",
       "    <tr>\n",
       "      <th>player_name</th>\n",
       "      <th></th>\n",
       "      <th></th>\n",
       "    </tr>\n",
       "  </thead>\n",
       "  <tbody>\n",
       "    <tr>\n",
       "      <th>Benzema</th>\n",
       "      <td>15</td>\n",
       "      <td>1.25</td>\n",
       "    </tr>\n",
       "    <tr>\n",
       "      <th>Lewandowski</th>\n",
       "      <td>13</td>\n",
       "      <td>1.30</td>\n",
       "    </tr>\n",
       "    <tr>\n",
       "      <th>Haller</th>\n",
       "      <td>11</td>\n",
       "      <td>1.38</td>\n",
       "    </tr>\n",
       "    <tr>\n",
       "      <th>Salah</th>\n",
       "      <td>8</td>\n",
       "      <td>0.62</td>\n",
       "    </tr>\n",
       "    <tr>\n",
       "      <th>Nkunku</th>\n",
       "      <td>7</td>\n",
       "      <td>1.17</td>\n",
       "    </tr>\n",
       "  </tbody>\n",
       "</table>\n",
       "</div>"
      ],
      "text/plain": [
       "             goals   GPM\n",
       "player_name             \n",
       "Benzema         15  1.25\n",
       "Lewandowski     13  1.30\n",
       "Haller          11  1.38\n",
       "Salah            8  0.62\n",
       "Nkunku           7  1.17"
      ]
     },
     "execution_count": 81,
     "metadata": {},
     "output_type": "execute_result"
    }
   ],
   "source": [
    "df_goals['GPM'] = (df_goals['goals']/df_goals['match_played']).round(2)\n",
    "gls = df_goals.groupby('player_name').agg({'goals':'sum', 'GPM': 'sum'})\n",
    "top5_goals = gls.sort_values(by='goals', ascending=False).head(5)\n",
    "top5_goals"
   ]
  },
  {
   "cell_type": "code",
   "execution_count": 93,
   "id": "7738f9e7",
   "metadata": {},
   "outputs": [],
   "source": [
    "gls_attributes = df_goals.groupby('player_name').agg({'goals':'sum', 'right_foot':'sum', \\\n",
    "                                                     'left_foot': 'sum', 'headers':'sum', \\\n",
    "                                                     'others': 'sum'})\n",
    "gls_attributes1 = gls_attributes.sort_values(by='goals', ascending=False).head(5)"
   ]
  },
  {
   "cell_type": "code",
   "execution_count": 94,
   "id": "3927a29a",
   "metadata": {},
   "outputs": [
    {
     "data": {
      "image/png": "[encoded data removed]",
      "text/plain": [
       "<Figure size 432x288 with 2 Axes>"
      ]
     },
     "metadata": {},
     "output_type": "display_data"
    },
    {
     "data": {
      "image/png": "[encoded data removed]",
      "text/plain": [
       "<Figure size 432x288 with 2 Axes>"
      ]
     },
     "metadata": {},
     "output_type": "display_data"
    },
    {
     "data": {
      "image/png": "[encoded data removed]",
      "text/plain": [
       "<Figure size 432x288 with 2 Axes>"
      ]
     },
     "metadata": {},
     "output_type": "display_data"
    },
    {
     "data": {
      "image/png": "[encoded data removed]",
      "text/plain": [
       "<Figure size 432x288 with 2 Axes>"
      ]
     },
     "metadata": {},
     "output_type": "display_data"
    },
    {
     "data": {
      "image/png": "[encoded data removed]",
      "text/plain": [
       "<Figure size 432x288 with 2 Axes>"
      ]
     },
     "metadata": {},
     "output_type": "display_data"
    }
   ],
   "source": [
    "import seaborn as sns\n",
    "import matplotlib.pyplot as plt\n",
    "for t in range(5):\n",
    "    plt.subplot(1,2,1)\n",
    "    x = list(gls_attributes1.iloc[t,1:])\n",
    "    data = x\n",
    "    labels = ['Right Foot', 'Left Foot', 'Headers', 'Other']\n",
    "\n",
    "    #define Seaborn color palette to use\n",
    "    colors = sns.color_palette('bright')[0:4]\n",
    "    #create pie chart\n",
    "    plt.pie(data, labels = labels, colors = colors, autopct='%.0f%%')\n",
    "    plt.title(gls_attributes1.index[t])\n",
    "    plt.text(-.35, 1.1, f'(Goals={top5_goals.iloc[t,0]})')\n",
    "    \n",
    "    plt.subplot(1,2,2)\n",
    "    df_goals1 = df_goals.copy()\n",
    "    df_goals1['inside_area'] = df_goals1['inside_area'] - df_goals1['penalties']\n",
    "    dist_attributes = df_goals1.groupby('player_name').agg({'goals':'sum', 'inside_area':'sum', \\\n",
    "                                                     'outside_areas': 'sum', 'penalties':'sum'})\n",
    "    dist_attributes1 = dist_attributes.sort_values(by='goals', ascending=False).head(5)\n",
    "    x1 = list(dist_attributes1.iloc[t,1:])\n",
    "    labels = ['Inside Area', 'Outside Area', 'Penalties']\n",
    "    plt.pie(x1, labels = labels, colors = colors, autopct='%.0f%%')\n",
    "    plt.title(gls_attributes1.index[t])\n",
    "    plt.text(-.35, 1.1, f'(Goals={top5_goals.iloc[t,0]})')\n",
    "    plt.tight_layout()\n",
    "    plt.show()\n"
   ]
  },
  {
   "cell_type": "markdown",
   "id": "93cd76ad",
   "metadata": {},
   "source": [
    "# Scatter Viz Goals VS Matches Played"
   ]
  },
  {
   "cell_type": "code",
   "execution_count": 115,
   "id": "7e24cb9b",
   "metadata": {},
   "outputs": [
    {
     "data": {
      "text/plain": [
       "<seaborn.axisgrid.FacetGrid at 0x7fd08d32abb0>"
      ]
     },
     "execution_count": 115,
     "metadata": {},
     "output_type": "execute_result"
    },
    {
     "data": {
      "image/png": "[encoded data removed]",
      "text/plain": [
       "<Figure size 432x288 with 1 Axes>"
      ]
     },
     "metadata": {
      "needs_background": "light"
     },
     "output_type": "display_data"
    },
    {
     "data": {
      "image/png": "[encoded data removed]",
      "text/plain": [
       "<Figure size 446x360 with 1 Axes>"
      ]
     },
     "metadata": {
      "needs_background": "light"
     },
     "output_type": "display_data"
    }
   ],
   "source": [
    "#Scatter\n",
    "sns.scatterplot(data=df_goals, x=\"match_played\", y=\"goals\", \n",
    "                hue=\"position\", size=\"GPM\")\n",
    "\n",
    "sns.lmplot(x=\"match_played\", y=\"goals\", hue=\"position\", data=df_goals)"
   ]
  },
  {
   "cell_type": "markdown",
   "id": "e4a57919",
   "metadata": {},
   "source": [
    "## LR Model \n",
    "- Predictors: Position, Match Played\n",
    "- Target: Goals\n",
    "- Performance Evaluation"
   ]
  },
  {
   "cell_type": "code",
   "execution_count": 70,
   "id": "6f7fd5a9",
   "metadata": {},
   "outputs": [],
   "source": [
    "df_goals2 = df_goals.copy()\n",
    "df_goals2['position'].replace(['Forward', 'Midfielder', 'Defender'],\n",
    "                        [1, 2, 3], inplace=True)"
   ]
  },
  {
   "cell_type": "code",
   "execution_count": 71,
   "id": "f7db23e1",
   "metadata": {},
   "outputs": [
    {
     "data": {
      "text/plain": [
       "array(['Forward', 'Midfielder', 'Defender'], dtype=object)"
      ]
     },
     "execution_count": 71,
     "metadata": {},
     "output_type": "execute_result"
    }
   ],
   "source": [
    "df_goals['position'].unique()"
   ]
  },
  {
   "cell_type": "code",
   "execution_count": 72,
   "id": "c916ba4a",
   "metadata": {},
   "outputs": [],
   "source": [
    "#Development of Model\n",
    "from sklearn.linear_model import LinearRegression\n",
    "\n",
    "x = df_goals2[['position', 'match_played']].values\n",
    "y = df_goals2['goals']\n",
    "\n",
    "goal_model = LinearRegression().fit(x, y)"
   ]
  },
  {
   "cell_type": "code",
   "execution_count": 73,
   "id": "0c5352ef",
   "metadata": {},
   "outputs": [
    {
     "name": "stdout",
     "output_type": "stream",
     "text": [
      "Coefficient (Position)= -0.8056323702784632\n",
      "Coefficient (Matches Played)= 0.29440035284894384\n",
      "Intercept= 1.4384769320963\n"
     ]
    }
   ],
   "source": [
    "#Coefficients and Intercept\n",
    "print('Coefficient (Position)=', goal_model.coef_[0])\n",
    "print('Coefficient (Matches Played)=', goal_model.coef_[1])\n",
    "print('Intercept=', goal_model.intercept_)"
   ]
  },
  {
   "cell_type": "code",
   "execution_count": 74,
   "id": "18b00329",
   "metadata": {},
   "outputs": [
    {
     "data": {
      "text/plain": [
       "1.52"
      ]
     },
     "execution_count": 74,
     "metadata": {},
     "output_type": "execute_result"
    }
   ],
   "source": [
    "#Ex. Prediction\n",
    "goal_model.predict([[1,3]])[0].round(2)"
   ]
  },
  {
   "cell_type": "code",
   "execution_count": 61,
   "id": "bbbc31b4",
   "metadata": {},
   "outputs": [
    {
     "name": "stdout",
     "output_type": "stream",
     "text": [
      "Options\n",
      "--------\n",
      "1) Forward\n",
      "2) Midfielder\n",
      "3) Defender\n",
      "Enter Position:1\n",
      "Enter Match Played:7\n",
      "Estimated Goals: 3.0\n"
     ]
    }
   ],
   "source": [
    "# UX Prediction\n",
    "print('Options')\n",
    "print('--------')\n",
    "uniq_p = df_goals['position'].unique()\n",
    "for x in range(3):\n",
    "    print(f'{x+1}) {uniq_p[x]}')\n",
    "choice = int(input('Enter Position:' ))\n",
    "choice1 = int(input('Enter Match Played:' ))\n",
    "print('Estimated Goals:', goal_model.predict([[choice,choice1]])[0].round(0\n",
    "                                                                         ))\n"
   ]
  },
  {
   "cell_type": "code",
   "execution_count": 86,
   "id": "84515e9c",
   "metadata": {},
   "outputs": [],
   "source": [
    "df_goals2['goal_pred'] = (goal_model.intercept_+ df_goals2['position']*goal_model.coef_[0] \\\n",
    "                              + df_goals2['match_played']*goal_model.coef_[1]).round(0)"
   ]
  },
  {
   "cell_type": "code",
   "execution_count": 85,
   "id": "3e0012f4",
   "metadata": {},
   "outputs": [
    {
     "name": "stdout",
     "output_type": "stream",
     "text": [
      "ME: -0.01639344262295082\n",
      "MSE: 3.087431693989071\n"
     ]
    }
   ],
   "source": [
    "#Performance Statistics\n",
    "df_goals2['error'] = df_goals2['goals'] - df_goals2['goal_pred']\n",
    "print('ME:', df_goals2['error'].mean())\n",
    "\n",
    "df_goals2['sq_error'] = np.square(df_goals2['error'])\n",
    "print('MSE:', df_goals2['sq_error'].mean())"
   ]
  },
  {
   "cell_type": "code",
   "execution_count": 93,
   "id": "871f0aa9",
   "metadata": {},
   "outputs": [],
   "source": [
    "import  scipy.signal.signaltools\n",
    "\n",
    "def _centered(arr, newsize):\n",
    "    # Return the center newsize portion of the array.\n",
    "    newsize = np.asarray(newsize)\n",
    "    currsize = np.array(arr.shape)\n",
    "    startind = (currsize - newsize) // 2\n",
    "    endind = startind + newsize\n",
    "    myslice = [slice(startind[k], endind[k]) for k in range(len(endind))]\n",
    "    return arr[tuple(myslice)]\n",
    "\n",
    "scipy.signal.signaltools._centered = _centered"
   ]
  },
  {
   "cell_type": "code",
   "execution_count": 102,
   "id": "10ca5fb7",
   "metadata": {},
   "outputs": [
    {
     "data": {
      "text/html": [
       "<div>\n",
       "<style scoped>\n",
       "    .dataframe tbody tr th:only-of-type {\n",
       "        vertical-align: middle;\n",
       "    }\n",
       "\n",
       "    .dataframe tbody tr th {\n",
       "        vertical-align: top;\n",
       "    }\n",
       "\n",
       "    .dataframe thead th {\n",
       "        text-align: right;\n",
       "    }\n",
       "</style>\n",
       "<table border=\"1\" class=\"dataframe\">\n",
       "  <thead>\n",
       "    <tr style=\"text-align: right;\">\n",
       "      <th></th>\n",
       "      <th>sum_sq</th>\n",
       "      <th>df</th>\n",
       "      <th>F</th>\n",
       "      <th>PR(&gt;F)</th>\n",
       "    </tr>\n",
       "  </thead>\n",
       "  <tbody>\n",
       "    <tr>\n",
       "      <th>C(position + match_played)</th>\n",
       "      <td>120.338555</td>\n",
       "      <td>12.0</td>\n",
       "      <td>2.787555</td>\n",
       "      <td>0.001702</td>\n",
       "    </tr>\n",
       "    <tr>\n",
       "      <th>Residual</th>\n",
       "      <td>611.574013</td>\n",
       "      <td>170.0</td>\n",
       "      <td>NaN</td>\n",
       "      <td>NaN</td>\n",
       "    </tr>\n",
       "  </tbody>\n",
       "</table>\n",
       "</div>"
      ],
      "text/plain": [
       "                                sum_sq     df         F    PR(>F)\n",
       "C(position + match_played)  120.338555   12.0  2.787555  0.001702\n",
       "Residual                    611.574013  170.0       NaN       NaN"
      ]
     },
     "execution_count": 102,
     "metadata": {},
     "output_type": "execute_result"
    }
   ],
   "source": [
    "#Anova\n",
    "import statsmodels.api as sm\n",
    "from statsmodels.formula.api import ols\n",
    "model = ols('goals ~ C(position + match_played)', data=df_goals2).fit()\n",
    "anova_table = sm.stats.anova_lm(model, typ=2)\n",
    "anova_table\n"
   ]
  },
  {
   "cell_type": "markdown",
   "id": "f35081cd",
   "metadata": {},
   "source": [
    "## Disciplinary Statistics"
   ]
  },
  {
   "cell_type": "code",
   "execution_count": 156,
   "id": "c0d366f2",
   "metadata": {},
   "outputs": [
    {
     "data": {
      "text/html": [
       "<div>\n",
       "<style scoped>\n",
       "    .dataframe tbody tr th:only-of-type {\n",
       "        vertical-align: middle;\n",
       "    }\n",
       "\n",
       "    .dataframe tbody tr th {\n",
       "        vertical-align: top;\n",
       "    }\n",
       "\n",
       "    .dataframe thead th {\n",
       "        text-align: right;\n",
       "    }\n",
       "</style>\n",
       "<table border=\"1\" class=\"dataframe\">\n",
       "  <thead>\n",
       "    <tr style=\"text-align: right;\">\n",
       "      <th></th>\n",
       "      <th>player_name</th>\n",
       "      <th>red</th>\n",
       "      <th>RPM</th>\n",
       "    </tr>\n",
       "  </thead>\n",
       "  <tbody>\n",
       "    <tr>\n",
       "      <th>10</th>\n",
       "      <td>Álvarez</td>\n",
       "      <td>4</td>\n",
       "      <td>0.57</td>\n",
       "    </tr>\n",
       "    <tr>\n",
       "      <th>6</th>\n",
       "      <td>Éder Militão</td>\n",
       "      <td>4</td>\n",
       "      <td>0.33</td>\n",
       "    </tr>\n",
       "    <tr>\n",
       "      <th>74</th>\n",
       "      <td>André</td>\n",
       "      <td>3</td>\n",
       "      <td>0.43</td>\n",
       "    </tr>\n",
       "    <tr>\n",
       "      <th>1</th>\n",
       "      <td>Capoue</td>\n",
       "      <td>3</td>\n",
       "      <td>0.25</td>\n",
       "    </tr>\n",
       "    <tr>\n",
       "      <th>55</th>\n",
       "      <td>Arnold</td>\n",
       "      <td>3</td>\n",
       "      <td>0.50</td>\n",
       "    </tr>\n",
       "    <tr>\n",
       "      <th>270</th>\n",
       "      <td>Matheus Nunes</td>\n",
       "      <td>3</td>\n",
       "      <td>0.50</td>\n",
       "    </tr>\n",
       "    <tr>\n",
       "      <th>23</th>\n",
       "      <td>Addo</td>\n",
       "      <td>3</td>\n",
       "      <td>0.50</td>\n",
       "    </tr>\n",
       "    <tr>\n",
       "      <th>117</th>\n",
       "      <td>Pino</td>\n",
       "      <td>3</td>\n",
       "      <td>0.43</td>\n",
       "    </tr>\n",
       "    <tr>\n",
       "      <th>27</th>\n",
       "      <td>Marcos Llorente</td>\n",
       "      <td>3</td>\n",
       "      <td>0.33</td>\n",
       "    </tr>\n",
       "    <tr>\n",
       "      <th>251</th>\n",
       "      <td>Dulanto</td>\n",
       "      <td>3</td>\n",
       "      <td>0.50</td>\n",
       "    </tr>\n",
       "  </tbody>\n",
       "</table>\n",
       "</div>"
      ],
      "text/plain": [
       "         player_name  red   RPM\n",
       "10           Álvarez    4  0.57\n",
       "6       Éder Militão    4  0.33\n",
       "74             André    3  0.43\n",
       "1             Capoue    3  0.25\n",
       "55            Arnold    3  0.50\n",
       "270    Matheus Nunes    3  0.50\n",
       "23              Addo    3  0.50\n",
       "117             Pino    3  0.43\n",
       "27   Marcos Llorente    3  0.33\n",
       "251          Dulanto    3  0.50"
      ]
     },
     "execution_count": 156,
     "metadata": {},
     "output_type": "execute_result"
    }
   ],
   "source": [
    "df_disc1 = df_disciplinary.copy()\n",
    "df_disc1 = df_disc1[df_disc1['match_played'] >=6]\n",
    "\n",
    "\n",
    "df_disc1['RPM'] = (df_disc1['red']/df_disc1['match_played']).round(2)\n",
    "df_disciplinary['tot_cards'] = df_disciplinary['red'] + df_disciplinary['yellow']\n",
    "red_p = df_disc1[['player_name', 'red', 'RPM']]\n",
    "red_p.sort_values(by='red', ascending=False).head(10)\n",
    "\n",
    "#PLAYERS WITH HIGHEST RED CARDS PROVIDED 6+GAMES"
   ]
  },
  {
   "cell_type": "code",
   "execution_count": 167,
   "id": "ff53f124",
   "metadata": {},
   "outputs": [
    {
     "data": {
      "text/html": [
       "<div>\n",
       "<style scoped>\n",
       "    .dataframe tbody tr th:only-of-type {\n",
       "        vertical-align: middle;\n",
       "    }\n",
       "\n",
       "    .dataframe tbody tr th {\n",
       "        vertical-align: top;\n",
       "    }\n",
       "\n",
       "    .dataframe thead th {\n",
       "        text-align: right;\n",
       "    }\n",
       "</style>\n",
       "<table border=\"1\" class=\"dataframe\">\n",
       "  <thead>\n",
       "    <tr style=\"text-align: right;\">\n",
       "      <th></th>\n",
       "      <th>red</th>\n",
       "      <th>yellow</th>\n",
       "      <th>tot_cards</th>\n",
       "      <th>club1</th>\n",
       "    </tr>\n",
       "    <tr>\n",
       "      <th>club</th>\n",
       "      <th></th>\n",
       "      <th></th>\n",
       "      <th></th>\n",
       "      <th></th>\n",
       "    </tr>\n",
       "  </thead>\n",
       "  <tbody>\n",
       "    <tr>\n",
       "      <th>Atlético</th>\n",
       "      <td>25</td>\n",
       "      <td>4</td>\n",
       "      <td>29</td>\n",
       "      <td>Atlético</td>\n",
       "    </tr>\n",
       "    <tr>\n",
       "      <th>Wolfsburg</th>\n",
       "      <td>25</td>\n",
       "      <td>2</td>\n",
       "      <td>27</td>\n",
       "      <td>Wolfsburg</td>\n",
       "    </tr>\n",
       "    <tr>\n",
       "      <th>Real Madrid</th>\n",
       "      <td>25</td>\n",
       "      <td>0</td>\n",
       "      <td>25</td>\n",
       "      <td>Real Madrid</td>\n",
       "    </tr>\n",
       "    <tr>\n",
       "      <th>Villarreal</th>\n",
       "      <td>24</td>\n",
       "      <td>2</td>\n",
       "      <td>26</td>\n",
       "      <td>Villarreal</td>\n",
       "    </tr>\n",
       "    <tr>\n",
       "      <th>LOSC</th>\n",
       "      <td>24</td>\n",
       "      <td>0</td>\n",
       "      <td>24</td>\n",
       "      <td>LOSC</td>\n",
       "    </tr>\n",
       "    <tr>\n",
       "      <th>Man. City</th>\n",
       "      <td>21</td>\n",
       "      <td>1</td>\n",
       "      <td>22</td>\n",
       "      <td>Man. City</td>\n",
       "    </tr>\n",
       "    <tr>\n",
       "      <th>Sevilla</th>\n",
       "      <td>20</td>\n",
       "      <td>2</td>\n",
       "      <td>22</td>\n",
       "      <td>Sevilla</td>\n",
       "    </tr>\n",
       "    <tr>\n",
       "      <th>Benfica</th>\n",
       "      <td>19</td>\n",
       "      <td>0</td>\n",
       "      <td>19</td>\n",
       "      <td>Benfica</td>\n",
       "    </tr>\n",
       "    <tr>\n",
       "      <th>Paris</th>\n",
       "      <td>19</td>\n",
       "      <td>0</td>\n",
       "      <td>19</td>\n",
       "      <td>Paris</td>\n",
       "    </tr>\n",
       "    <tr>\n",
       "      <th>Sporting CP</th>\n",
       "      <td>17</td>\n",
       "      <td>0</td>\n",
       "      <td>17</td>\n",
       "      <td>Sporting CP</td>\n",
       "    </tr>\n",
       "  </tbody>\n",
       "</table>\n",
       "</div>"
      ],
      "text/plain": [
       "             red  yellow  tot_cards        club1\n",
       "club                                            \n",
       "Atlético      25       4         29     Atlético\n",
       "Wolfsburg     25       2         27    Wolfsburg\n",
       "Real Madrid   25       0         25  Real Madrid\n",
       "Villarreal    24       2         26   Villarreal\n",
       "LOSC          24       0         24         LOSC\n",
       "Man. City     21       1         22    Man. City\n",
       "Sevilla       20       2         22      Sevilla\n",
       "Benfica       19       0         19      Benfica\n",
       "Paris         19       0         19        Paris\n",
       "Sporting CP   17       0         17  Sporting CP"
      ]
     },
     "execution_count": 167,
     "metadata": {},
     "output_type": "execute_result"
    }
   ],
   "source": [
    "#df_disciplinary[df_disciplinary['player_name'] == 'Álvarez']\n",
    "r_club = df_disciplinary.groupby('club').agg({'red': sum, 'yellow': sum, 'tot_cards': \\                        \n",
    "                                             sum})\n",
    "r_club = r_club.sort_values(by='red', ascending=False).head(10)\n",
    "\n",
    "rindex = r_club.index\n",
    "r_club['club1'] = r_club.index\n",
    "r_club"
   ]
  },
  {
   "cell_type": "code",
   "execution_count": 169,
   "id": "7446a8df",
   "metadata": {},
   "outputs": [
    {
     "data": {
      "text/plain": [
       "Text(0.5, 1.0, 'CL Teams by Disciplanary Cards')"
      ]
     },
     "execution_count": 169,
     "metadata": {},
     "output_type": "execute_result"
    },
    {
     "data": {
      "image/png": "[encoded data removed]",
      "text/plain": [
       "<Figure size 432x288 with 1 Axes>"
      ]
     },
     "metadata": {},
     "output_type": "display_data"
    }
   ],
   "source": [
    "my_colors = ['black', 'r', 'y']*10\n",
    "r_club.plot(x='club1', y=['tot_cards', 'red', 'yellow'], kind=\"barh\", color=my_colors)\n",
    "plt.ylabel('Club Name')\n",
    "plt.xlabel('Disciplinary Cards')\n",
    "plt.title('CL Teams by Disciplanary Cards')"
   ]
  },
  {
   "cell_type": "markdown",
   "id": "64030367",
   "metadata": {},
   "source": [
    "## Defense Statistics\n",
    "- Top defenders on basis of Accuracy"
   ]
  },
  {
   "cell_type": "code",
   "execution_count": 182,
   "id": "207135f2",
   "metadata": {},
   "outputs": [
    {
     "name": "stdout",
     "output_type": "stream",
     "text": [
      "Midfielder: 4 (Accuracy Rate: 0.692)\n",
      "Defender: 6 (Accuracy Rate: 0.675)\n"
     ]
    },
    {
     "name": "stderr",
     "output_type": "stream",
     "text": [
      "/var/folders/2n/y8fl7fr16hs_g_085s9fnpqm0000gn/T/ipykernel_74979/1444323845.py:4: SettingWithCopyWarning: \n",
      "A value is trying to be set on a copy of a slice from a DataFrame.\n",
      "Try using .loc[row_indexer,col_indexer] = value instead\n",
      "\n",
      "See the caveats in the documentation: https://pandas.pydata.org/pandas-docs/stable/user_guide/indexing.html#returning-a-view-versus-a-copy\n",
      "  defense_df['tackle_success'] = (defense_df['t_won']/defense_df['tackles']).round(2)\n"
     ]
    }
   ],
   "source": [
    "defense_df = df_defending[['player_name', 'club', 'position', \\\n",
    "             'balls_recoverd', 'tackles', 't_won', 't_lost']]\n",
    "\n",
    "defense_df['tackle_success'] = (defense_df['t_won']/defense_df['tackles']).round(2)\n",
    "\n",
    "defense_df = defense_df[defense_df['tackles'] >=10]\n",
    "defense_df.sort_values(by='tackle_success', ascending=False, inplace=True)\n",
    "\n",
    "defense_df.reset_index(inplace=True)\n",
    "\n",
    "#Top ten\n",
    "defense_df = defense_df.iloc[0:10]\n",
    "\n",
    "#agg table\n",
    "d = defense_df.groupby('position').agg({'tackle_success': 'mean'})\n",
    "d.sort_values(by='tackle_success', ascending=False, inplace=True)\n",
    "d.reset_index(inplace=True)\n",
    "\n",
    "i=0\n",
    "for val in defense_df['position'].unique():\n",
    "    print(f'{val}: {sum(defense_df.position == val)} (Avg. Accuracy Rate: {d.iloc[i,1].round(3)})')\n",
    "    i+=1\n",
    "    \n",
    "defense_df = df_defending[['player_name', 'club', 'position', \\\n",
    "             'balls_recoverd', 'tackles', 't_won', 't_lost', 'match_played']]\n",
    "\n",
    "defense_df['tackle_success'] = (defense_df['t_won']/defense_df['tackles']).round(2)\n",
    "\n",
    "defense_df = defense_df[defense_df['tackles'] >=10]\n",
    "defense_df.sort_values(by='tackle_success', ascending=False, inplace=True)\n",
    "\n",
    "defense_df.reset_index(inplace=True)"
   ]
  },
  {
   "cell_type": "code",
   "execution_count": 190,
   "id": "709d0ae7",
   "metadata": {},
   "outputs": [
    {
     "data": {
      "application/vnd.plotly.v1+json": {
       "config": {
        "plotlyServerURL": "https://plot.ly"
       },
       "data": [
        {
         "hovertemplate": "<b>%{hovertext}</b><br><br>position=Midfielder<br>match_played=%{x}<br>tackles=%{y}<br>tackle_success=%{marker.size}<extra></extra>",
         "hovertext": [
          "Koke",
          "Rodri",
          "Thiago Alcántara",
          "Barrios",
          "Freuler",
          "Fred",
          "Souza",
          "Lauper",
          "Lo Celso",
          "Bellingham",
          "Rabiot",
          "Valverde",
          "Otávio",
          "Vidal",
          "Álvarez",
          "Camavinga",
          "Weigl",
          "Verratti",
          "André",
          "Camara",
          "S. Thill",
          "Parejo",
          "Sergio Busquets",
          "Locatelli",
          "Bruno Fernandes",
          "Kroos",
          "Casemiro",
          "Kovačić",
          "Gueye",
          "Kondogbia",
          "Kimmich",
          "Brozović",
          "Fabinho",
          "João Palhinha",
          "Peña",
          "Capaldo",
          "Shaparenko",
          "Uribe",
          "Seiwald",
          "Balanta",
          "F. de Jong",
          "Barella",
          "Addo",
          "C. Martins Pereira",
          "Laimer",
          "Innocent",
          "Capoue"
         ],
         "legendgroup": "Midfielder",
         "marker": {
          "color": "#636efa",
          "size": [
           0.73,
           0.71,
           0.69,
           0.64,
           0.6,
           0.6,
           0.6,
           0.58,
           0.58,
           0.56,
           0.55,
           0.54,
           0.54,
           0.53,
           0.53,
           0.53,
           0.52,
           0.51,
           0.5,
           0.5,
           0.5,
           0.47,
           0.47,
           0.47,
           0.46,
           0.45,
           0.42,
           0.42,
           0.42,
           0.4,
           0.4,
           0.4,
           0.39,
           0.38,
           0.36,
           0.36,
           0.36,
           0.33,
           0.33,
           0.3,
           0.3,
           0.3,
           0.27,
           0.2,
           0.18,
           0.14,
           0.09
          ],
          "sizemode": "area",
          "sizeref": 0.0008111111111111111,
          "symbol": "circle"
         },
         "mode": "markers",
         "name": "Midfielder",
         "orientation": "v",
         "showlegend": true,
         "type": "scatter",
         "x": [
          9,
          10,
          10,
          6,
          6,
          6,
          5,
          6,
          6,
          6,
          7,
          11,
          6,
          7,
          7,
          10,
          9,
          5,
          7,
          8,
          6,
          12,
          6,
          7,
          7,
          12,
          11,
          6,
          7,
          9,
          8,
          8,
          13,
          6,
          5,
          7,
          6,
          4,
          8,
          5,
          6,
          6,
          6,
          5,
          6,
          6,
          12
         ],
         "xaxis": "x",
         "y": [
          11,
          14,
          16,
          11,
          10,
          10,
          20,
          12,
          12,
          16,
          11,
          13,
          13,
          19,
          19,
          17,
          23,
          35,
          24,
          14,
          12,
          17,
          19,
          15,
          13,
          11,
          31,
          12,
          12,
          15,
          15,
          15,
          23,
          29,
          11,
          14,
          11,
          12,
          18,
          10,
          10,
          10,
          26,
          10,
          11,
          14,
          11
         ],
         "yaxis": "y"
        },
        {
         "hovertemplate": "<b>%{hovertext}</b><br><br>position=Defender<br>match_played=%{x}<br>tackles=%{y}<br>tackle_success=%{marker.size}<extra></extra>",
         "hovertext": [
          "Romagnoli",
          "Fonte",
          "Konaté",
          "Fernando Costanza",
          "Alaba",
          "Mazraoui",
          "Otamendi",
          "Dodô",
          "Christensen",
          "Pavard",
          "Rakitskyy",
          "Wan-Bissaka",
          "Škriniar",
          "Luís Neto",
          "Foyth",
          "Carvajal",
          "Montero",
          "Gilberto",
          "Reinildo",
          "Kristensen",
          "Wöber",
          "Grimaldo",
          "Nacho",
          "Blind",
          "Alex Sandro",
          "Éder Militão",
          "Welinton",
          "Tomori",
          "Renan Lodi",
          "Dulanto",
          "Martínez",
          "Rúben Dias"
         ],
         "legendgroup": "Defender",
         "marker": {
          "color": "#EF553B",
          "size": [
           0.7,
           0.69,
           0.69,
           0.68,
           0.67,
           0.62,
           0.61,
           0.6,
           0.6,
           0.58,
           0.58,
           0.58,
           0.55,
           0.54,
           0.5,
           0.5,
           0.5,
           0.47,
           0.46,
           0.44,
           0.43,
           0.4,
           0.4,
           0.36,
           0.36,
           0.32,
           0.31,
           0.3,
           0.29,
           0.27,
           0.2,
           0.09
          ],
          "sizemode": "area",
          "sizeref": 0.0008111111111111111,
          "symbol": "circle"
         },
         "mode": "markers",
         "name": "Defender",
         "orientation": "v",
         "showlegend": true,
         "type": "scatter",
         "x": [
          5,
          8,
          8,
          6,
          12,
          8,
          9,
          6,
          8,
          10,
          6,
          6,
          8,
          6,
          10,
          11,
          4,
          9,
          10,
          8,
          7,
          10,
          9,
          8,
          7,
          12,
          4,
          5,
          10,
          6,
          8,
          8
         ],
         "xaxis": "x",
         "y": [
          10,
          13,
          16,
          19,
          18,
          16,
          28,
          10,
          10,
          12,
          12,
          12,
          11,
          13,
          20,
          12,
          12,
          17,
          13,
          18,
          14,
          15,
          10,
          11,
          11,
          19,
          13,
          10,
          21,
          11,
          10,
          11
         ],
         "yaxis": "y"
        },
        {
         "hovertemplate": "<b>%{hovertext}</b><br><br>position=Forward<br>match_played=%{x}<br>tackles=%{y}<br>tackle_success=%{marker.size}<extra></extra>",
         "hovertext": [
          "Rafa Silva",
          "Griezmann",
          "Pino",
          "Martínez",
          "Vinícius Júnior"
         ],
         "legendgroup": "Forward",
         "marker": {
          "color": "#00cc96",
          "size": [
           0.5,
           0.43,
           0.4,
           0.36,
           0.27
          ],
          "sizemode": "area",
          "sizeref": 0.0008111111111111111,
          "symbol": "circle"
         },
         "mode": "markers",
         "name": "Forward",
         "orientation": "v",
         "showlegend": true,
         "type": "scatter",
         "x": [
          9,
          9,
          7,
          8,
          13
         ],
         "xaxis": "x",
         "y": [
          12,
          14,
          10,
          11,
          11
         ],
         "yaxis": "y"
        }
       ],
       "layout": {
        "legend": {
         "itemsizing": "constant",
         "title": {
          "text": "position"
         },
         "tracegroupgap": 0
        },
        "margin": {
         "t": 60
        },
        "template": {
         "data": {
          "bar": [
           {
            "error_x": {
             "color": "#2a3f5f"
            },
            "error_y": {
             "color": "#2a3f5f"
            },
            "marker": {
             "line": {
              "color": "#E5ECF6",
              "width": 0.5
             },
             "pattern": {
              "fillmode": "overlay",
              "size": 10,
              "solidity": 0.2
             }
            },
            "type": "bar"
           }
          ],
          "barpolar": [
           {
            "marker": {
             "line": {
              "color": "#E5ECF6",
              "width": 0.5
             },
             "pattern": {
              "fillmode": "overlay",
              "size": 10,
              "solidity": 0.2
             }
            },
            "type": "barpolar"
           }
          ],
          "carpet": [
           {
            "aaxis": {
             "endlinecolor": "#2a3f5f",
             "gridcolor": "white",
             "linecolor": "white",
             "minorgridcolor": "white",
             "startlinecolor": "#2a3f5f"
            },
            "baxis": {
             "endlinecolor": "#2a3f5f",
             "gridcolor": "white",
             "linecolor": "white",
             "minorgridcolor": "white",
             "startlinecolor": "#2a3f5f"
            },
            "type": "carpet"
           }
          ],
          "choropleth": [
           {
            "colorbar": {
             "outlinewidth": 0,
             "ticks": ""
            },
            "type": "choropleth"
           }
          ],
          "contour": [
           {
            "colorbar": {
             "outlinewidth": 0,
             "ticks": ""
            },
            "colorscale": [
             [
              0,
              "#0d0887"
             ],
             [
              0.1111111111111111,
              "#46039f"
             ],
             [
              0.2222222222222222,
              "#7201a8"
             ],
             [
              0.3333333333333333,
              "#9c179e"
             ],
             [
              0.4444444444444444,
              "#bd3786"
             ],
             [
              0.5555555555555556,
              "#d8576b"
             ],
             [
              0.6666666666666666,
              "#ed7953"
             ],
             [
              0.7777777777777778,
              "#fb9f3a"
             ],
             [
              0.8888888888888888,
              "#fdca26"
             ],
             [
              1,
              "#f0f921"
             ]
            ],
            "type": "contour"
           }
          ],
          "contourcarpet": [
           {
            "colorbar": {
             "outlinewidth": 0,
             "ticks": ""
            },
            "type": "contourcarpet"
           }
          ],
          "heatmap": [
           {
            "colorbar": {
             "outlinewidth": 0,
             "ticks": ""
            },
            "colorscale": [
             [
              0,
              "#0d0887"
             ],
             [
              0.1111111111111111,
              "#46039f"
             ],
             [
              0.2222222222222222,
              "#7201a8"
             ],
             [
              0.3333333333333333,
              "#9c179e"
             ],
             [
              0.4444444444444444,
              "#bd3786"
             ],
             [
              0.5555555555555556,
              "#d8576b"
             ],
             [
              0.6666666666666666,
              "#ed7953"
             ],
             [
              0.7777777777777778,
              "#fb9f3a"
             ],
             [
              0.8888888888888888,
              "#fdca26"
             ],
             [
              1,
              "#f0f921"
             ]
            ],
            "type": "heatmap"
           }
          ],
          "heatmapgl": [
           {
            "colorbar": {
             "outlinewidth": 0,
             "ticks": ""
            },
            "colorscale": [
             [
              0,
              "#0d0887"
             ],
             [
              0.1111111111111111,
              "#46039f"
             ],
             [
              0.2222222222222222,
              "#7201a8"
             ],
             [
              0.3333333333333333,
              "#9c179e"
             ],
             [
              0.4444444444444444,
              "#bd3786"
             ],
             [
              0.5555555555555556,
              "#d8576b"
             ],
             [
              0.6666666666666666,
              "#ed7953"
             ],
             [
              0.7777777777777778,
              "#fb9f3a"
             ],
             [
              0.8888888888888888,
              "#fdca26"
             ],
             [
              1,
              "#f0f921"
             ]
            ],
            "type": "heatmapgl"
           }
          ],
          "histogram": [
           {
            "marker": {
             "pattern": {
              "fillmode": "overlay",
              "size": 10,
              "solidity": 0.2
             }
            },
            "type": "histogram"
           }
          ],
          "histogram2d": [
           {
            "colorbar": {
             "outlinewidth": 0,
             "ticks": ""
            },
            "colorscale": [
             [
              0,
              "#0d0887"
             ],
             [
              0.1111111111111111,
              "#46039f"
             ],
             [
              0.2222222222222222,
              "#7201a8"
             ],
             [
              0.3333333333333333,
              "#9c179e"
             ],
             [
              0.4444444444444444,
              "#bd3786"
             ],
             [
              0.5555555555555556,
              "#d8576b"
             ],
             [
              0.6666666666666666,
              "#ed7953"
             ],
             [
              0.7777777777777778,
              "#fb9f3a"
             ],
             [
              0.8888888888888888,
              "#fdca26"
             ],
             [
              1,
              "#f0f921"
             ]
            ],
            "type": "histogram2d"
           }
          ],
          "histogram2dcontour": [
           {
            "colorbar": {
             "outlinewidth": 0,
             "ticks": ""
            },
            "colorscale": [
             [
              0,
              "#0d0887"
             ],
             [
              0.1111111111111111,
              "#46039f"
             ],
             [
              0.2222222222222222,
              "#7201a8"
             ],
             [
              0.3333333333333333,
              "#9c179e"
             ],
             [
              0.4444444444444444,
              "#bd3786"
             ],
             [
              0.5555555555555556,
              "#d8576b"
             ],
             [
              0.6666666666666666,
              "#ed7953"
             ],
             [
              0.7777777777777778,
              "#fb9f3a"
             ],
             [
              0.8888888888888888,
              "#fdca26"
             ],
             [
              1,
              "#f0f921"
             ]
            ],
            "type": "histogram2dcontour"
           }
          ],
          "mesh3d": [
           {
            "colorbar": {
             "outlinewidth": 0,
             "ticks": ""
            },
            "type": "mesh3d"
           }
          ],
          "parcoords": [
           {
            "line": {
             "colorbar": {
              "outlinewidth": 0,
              "ticks": ""
             }
            },
            "type": "parcoords"
           }
          ],
          "pie": [
           {
            "automargin": true,
            "type": "pie"
           }
          ],
          "scatter": [
           {
            "marker": {
             "colorbar": {
              "outlinewidth": 0,
              "ticks": ""
             }
            },
            "type": "scatter"
           }
          ],
          "scatter3d": [
           {
            "line": {
             "colorbar": {
              "outlinewidth": 0,
              "ticks": ""
             }
            },
            "marker": {
             "colorbar": {
              "outlinewidth": 0,
              "ticks": ""
             }
            },
            "type": "scatter3d"
           }
          ],
          "scattercarpet": [
           {
            "marker": {
             "colorbar": {
              "outlinewidth": 0,
              "ticks": ""
             }
            },
            "type": "scattercarpet"
           }
          ],
          "scattergeo": [
           {
            "marker": {
             "colorbar": {
              "outlinewidth": 0,
              "ticks": ""
             }
            },
            "type": "scattergeo"
           }
          ],
          "scattergl": [
           {
            "marker": {
             "colorbar": {
              "outlinewidth": 0,
              "ticks": ""
             }
            },
            "type": "scattergl"
           }
          ],
          "scattermapbox": [
           {
            "marker": {
             "colorbar": {
              "outlinewidth": 0,
              "ticks": ""
             }
            },
            "type": "scattermapbox"
           }
          ],
          "scatterpolar": [
           {
            "marker": {
             "colorbar": {
              "outlinewidth": 0,
              "ticks": ""
             }
            },
            "type": "scatterpolar"
           }
          ],
          "scatterpolargl": [
           {
            "marker": {
             "colorbar": {
              "outlinewidth": 0,
              "ticks": ""
             }
            },
            "type": "scatterpolargl"
           }
          ],
          "scatterternary": [
           {
            "marker": {
             "colorbar": {
              "outlinewidth": 0,
              "ticks": ""
             }
            },
            "type": "scatterternary"
           }
          ],
          "surface": [
           {
            "colorbar": {
             "outlinewidth": 0,
             "ticks": ""
            },
            "colorscale": [
             [
              0,
              "#0d0887"
             ],
             [
              0.1111111111111111,
              "#46039f"
             ],
             [
              0.2222222222222222,
              "#7201a8"
             ],
             [
              0.3333333333333333,
              "#9c179e"
             ],
             [
              0.4444444444444444,
              "#bd3786"
             ],
             [
              0.5555555555555556,
              "#d8576b"
             ],
             [
              0.6666666666666666,
              "#ed7953"
             ],
             [
              0.7777777777777778,
              "#fb9f3a"
             ],
             [
              0.8888888888888888,
              "#fdca26"
             ],
             [
              1,
              "#f0f921"
             ]
            ],
            "type": "surface"
           }
          ],
          "table": [
           {
            "cells": {
             "fill": {
              "color": "#EBF0F8"
             },
             "line": {
              "color": "white"
             }
            },
            "header": {
             "fill": {
              "color": "#C8D4E3"
             },
             "line": {
              "color": "white"
             }
            },
            "type": "table"
           }
          ]
         },
         "layout": {
          "annotationdefaults": {
           "arrowcolor": "#2a3f5f",
           "arrowhead": 0,
           "arrowwidth": 1
          },
          "autotypenumbers": "strict",
          "coloraxis": {
           "colorbar": {
            "outlinewidth": 0,
            "ticks": ""
           }
          },
          "colorscale": {
           "diverging": [
            [
             0,
             "#8e0152"
            ],
            [
             0.1,
             "#c51b7d"
            ],
            [
             0.2,
             "#de77ae"
            ],
            [
             0.3,
             "#f1b6da"
            ],
            [
             0.4,
             "#fde0ef"
            ],
            [
             0.5,
             "#f7f7f7"
            ],
            [
             0.6,
             "#e6f5d0"
            ],
            [
             0.7,
             "#b8e186"
            ],
            [
             0.8,
             "#7fbc41"
            ],
            [
             0.9,
             "#4d9221"
            ],
            [
             1,
             "#276419"
            ]
           ],
           "sequential": [
            [
             0,
             "#0d0887"
            ],
            [
             0.1111111111111111,
             "#46039f"
            ],
            [
             0.2222222222222222,
             "#7201a8"
            ],
            [
             0.3333333333333333,
             "#9c179e"
            ],
            [
             0.4444444444444444,
             "#bd3786"
            ],
            [
             0.5555555555555556,
             "#d8576b"
            ],
            [
             0.6666666666666666,
             "#ed7953"
            ],
            [
             0.7777777777777778,
             "#fb9f3a"
            ],
            [
             0.8888888888888888,
             "#fdca26"
            ],
            [
             1,
             "#f0f921"
            ]
           ],
           "sequentialminus": [
            [
             0,
             "#0d0887"
            ],
            [
             0.1111111111111111,
             "#46039f"
            ],
            [
             0.2222222222222222,
             "#7201a8"
            ],
            [
             0.3333333333333333,
             "#9c179e"
            ],
            [
             0.4444444444444444,
             "#bd3786"
            ],
            [
             0.5555555555555556,
             "#d8576b"
            ],
            [
             0.6666666666666666,
             "#ed7953"
            ],
            [
             0.7777777777777778,
             "#fb9f3a"
            ],
            [
             0.8888888888888888,
             "#fdca26"
            ],
            [
             1,
             "#f0f921"
            ]
           ]
          },
          "colorway": [
           "#636efa",
           "#EF553B",
           "#00cc96",
           "#ab63fa",
           "#FFA15A",
           "#19d3f3",
           "#FF6692",
           "#B6E880",
           "#FF97FF",
           "#FECB52"
          ],
          "font": {
           "color": "#2a3f5f"
          },
          "geo": {
           "bgcolor": "white",
           "lakecolor": "white",
           "landcolor": "#E5ECF6",
           "showlakes": true,
           "showland": true,
           "subunitcolor": "white"
          },
          "hoverlabel": {
           "align": "left"
          },
          "hovermode": "closest",
          "mapbox": {
           "style": "light"
          },
          "paper_bgcolor": "white",
          "plot_bgcolor": "#E5ECF6",
          "polar": {
           "angularaxis": {
            "gridcolor": "white",
            "linecolor": "white",
            "ticks": ""
           },
           "bgcolor": "#E5ECF6",
           "radialaxis": {
            "gridcolor": "white",
            "linecolor": "white",
            "ticks": ""
           }
          },
          "scene": {
           "xaxis": {
            "backgroundcolor": "#E5ECF6",
            "gridcolor": "white",
            "gridwidth": 2,
            "linecolor": "white",
            "showbackground": true,
            "ticks": "",
            "zerolinecolor": "white"
           },
           "yaxis": {
            "backgroundcolor": "#E5ECF6",
            "gridcolor": "white",
            "gridwidth": 2,
            "linecolor": "white",
            "showbackground": true,
            "ticks": "",
            "zerolinecolor": "white"
           },
           "zaxis": {
            "backgroundcolor": "#E5ECF6",
            "gridcolor": "white",
            "gridwidth": 2,
            "linecolor": "white",
            "showbackground": true,
            "ticks": "",
            "zerolinecolor": "white"
           }
          },
          "shapedefaults": {
           "line": {
            "color": "#2a3f5f"
           }
          },
          "ternary": {
           "aaxis": {
            "gridcolor": "white",
            "linecolor": "white",
            "ticks": ""
           },
           "baxis": {
            "gridcolor": "white",
            "linecolor": "white",
            "ticks": ""
           },
           "bgcolor": "#E5ECF6",
           "caxis": {
            "gridcolor": "white",
            "linecolor": "white",
            "ticks": ""
           }
          },
          "title": {
           "x": 0.05
          },
          "xaxis": {
           "automargin": true,
           "gridcolor": "white",
           "linecolor": "white",
           "ticks": "",
           "title": {
            "standoff": 15
           },
           "zerolinecolor": "white",
           "zerolinewidth": 2
          },
          "yaxis": {
           "automargin": true,
           "gridcolor": "white",
           "linecolor": "white",
           "ticks": "",
           "title": {
            "standoff": 15
           },
           "zerolinecolor": "white",
           "zerolinewidth": 2
          }
         }
        },
        "xaxis": {
         "anchor": "y",
         "domain": [
          0,
          1
         ],
         "title": {
          "text": "match_played"
         },
         "type": "log"
        },
        "yaxis": {
         "anchor": "x",
         "domain": [
          0,
          1
         ],
         "title": {
          "text": "tackles"
         }
        }
       }
      },
      "text/html": [
       "<div>                            <div id=\"b668db28-314e-4a29-8403-1a3449c34077\" class=\"plotly-graph-div\" style=\"height:525px; width:100%;\"></div>            <script type=\"text/javascript\">                require([\"plotly\"], function(Plotly) {                    window.PLOTLYENV=window.PLOTLYENV || {};                                    if (document.getElementById(\"b668db28-314e-4a29-8403-1a3449c34077\")) {                    Plotly.newPlot(                        \"b668db28-314e-4a29-8403-1a3449c34077\",                        [{\"hovertemplate\":\"<b>%{hovertext}</b><br><br>position=Midfielder<br>match_played=%{x}<br>tackles=%{y}<br>tackle_success=%{marker.size}<extra></extra>\",\"hovertext\":[\"Koke\",\"Rodri\",\"Thiago Alc\\u00e1ntara\",\"Barrios\",\"Freuler\",\"Fred\",\"Souza\",\"Lauper\",\"Lo Celso\",\"Bellingham\",\"Rabiot\",\"Valverde\",\"Ot\\u00e1vio\",\"Vidal\",\"\\u00c1lvarez\",\"Camavinga\",\"Weigl\",\"Verratti\",\"Andr\\u00e9\",\"Camara\",\"S. Thill\",\"Parejo\",\"Sergio Busquets\",\"Locatelli\",\"Bruno Fernandes\",\"Kroos\",\"Casemiro\",\"Kova\\u010di\\u0107\",\"Gueye\",\"Kondogbia\",\"Kimmich\",\"Brozovi\\u0107\",\"Fabinho\",\"Jo\\u00e3o Palhinha\",\"Pe\\u00f1a\",\"Capaldo\",\"Shaparenko\",\"Uribe\",\"Seiwald\",\"Balanta\",\"F. de Jong\",\"Barella\",\"Addo\",\"C. Martins Pereira\",\"Laimer\",\"Innocent\",\"Capoue\"],\"legendgroup\":\"Midfielder\",\"marker\":{\"color\":\"#636efa\",\"size\":[0.73,0.71,0.69,0.64,0.6,0.6,0.6,0.58,0.58,0.56,0.55,0.54,0.54,0.53,0.53,0.53,0.52,0.51,0.5,0.5,0.5,0.47,0.47,0.47,0.46,0.45,0.42,0.42,0.42,0.4,0.4,0.4,0.39,0.38,0.36,0.36,0.36,0.33,0.33,0.3,0.3,0.3,0.27,0.2,0.18,0.14,0.09],\"sizemode\":\"area\",\"sizeref\":0.0008111111111111111,\"symbol\":\"circle\"},\"mode\":\"markers\",\"name\":\"Midfielder\",\"orientation\":\"v\",\"showlegend\":true,\"x\":[9,10,10,6,6,6,5,6,6,6,7,11,6,7,7,10,9,5,7,8,6,12,6,7,7,12,11,6,7,9,8,8,13,6,5,7,6,4,8,5,6,6,6,5,6,6,12],\"xaxis\":\"x\",\"y\":[11,14,16,11,10,10,20,12,12,16,11,13,13,19,19,17,23,35,24,14,12,17,19,15,13,11,31,12,12,15,15,15,23,29,11,14,11,12,18,10,10,10,26,10,11,14,11],\"yaxis\":\"y\",\"type\":\"scatter\"},{\"hovertemplate\":\"<b>%{hovertext}</b><br><br>position=Defender<br>match_played=%{x}<br>tackles=%{y}<br>tackle_success=%{marker.size}<extra></extra>\",\"hovertext\":[\"Romagnoli\",\"Fonte\",\"Konat\\u00e9\",\"Fernando Costanza\",\"Alaba\",\"Mazraoui\",\"Otamendi\",\"Dod\\u00f4\",\"Christensen\",\"Pavard\",\"Rakitskyy\",\"Wan-Bissaka\",\"\\u0160kriniar\",\"Lu\\u00eds Neto\",\"Foyth\",\"Carvajal\",\"Montero\",\"Gilberto\",\"Reinildo\",\"Kristensen\",\"W\\u00f6ber\",\"Grimaldo\",\"Nacho\",\"Blind\",\"Alex Sandro\",\"\\u00c9der Milit\\u00e3o\",\"Welinton\",\"Tomori\",\"Renan Lodi\",\"Dulanto\",\"Mart\\u00ednez\",\"R\\u00faben Dias\"],\"legendgroup\":\"Defender\",\"marker\":{\"color\":\"#EF553B\",\"size\":[0.7,0.69,0.69,0.68,0.67,0.62,0.61,0.6,0.6,0.58,0.58,0.58,0.55,0.54,0.5,0.5,0.5,0.47,0.46,0.44,0.43,0.4,0.4,0.36,0.36,0.32,0.31,0.3,0.29,0.27,0.2,0.09],\"sizemode\":\"area\",\"sizeref\":0.0008111111111111111,\"symbol\":\"circle\"},\"mode\":\"markers\",\"name\":\"Defender\",\"orientation\":\"v\",\"showlegend\":true,\"x\":[5,8,8,6,12,8,9,6,8,10,6,6,8,6,10,11,4,9,10,8,7,10,9,8,7,12,4,5,10,6,8,8],\"xaxis\":\"x\",\"y\":[10,13,16,19,18,16,28,10,10,12,12,12,11,13,20,12,12,17,13,18,14,15,10,11,11,19,13,10,21,11,10,11],\"yaxis\":\"y\",\"type\":\"scatter\"},{\"hovertemplate\":\"<b>%{hovertext}</b><br><br>position=Forward<br>match_played=%{x}<br>tackles=%{y}<br>tackle_success=%{marker.size}<extra></extra>\",\"hovertext\":[\"Rafa Silva\",\"Griezmann\",\"Pino\",\"Mart\\u00ednez\",\"Vin\\u00edcius J\\u00fanior\"],\"legendgroup\":\"Forward\",\"marker\":{\"color\":\"#00cc96\",\"size\":[0.5,0.43,0.4,0.36,0.27],\"sizemode\":\"area\",\"sizeref\":0.0008111111111111111,\"symbol\":\"circle\"},\"mode\":\"markers\",\"name\":\"Forward\",\"orientation\":\"v\",\"showlegend\":true,\"x\":[9,9,7,8,13],\"xaxis\":\"x\",\"y\":[12,14,10,11,11],\"yaxis\":\"y\",\"type\":\"scatter\"}],                        {\"template\":{\"data\":{\"bar\":[{\"error_x\":{\"color\":\"#2a3f5f\"},\"error_y\":{\"color\":\"#2a3f5f\"},\"marker\":{\"line\":{\"color\":\"#E5ECF6\",\"width\":0.5},\"pattern\":{\"fillmode\":\"overlay\",\"size\":10,\"solidity\":0.2}},\"type\":\"bar\"}],\"barpolar\":[{\"marker\":{\"line\":{\"color\":\"#E5ECF6\",\"width\":0.5},\"pattern\":{\"fillmode\":\"overlay\",\"size\":10,\"solidity\":0.2}},\"type\":\"barpolar\"}],\"carpet\":[{\"aaxis\":{\"endlinecolor\":\"#2a3f5f\",\"gridcolor\":\"white\",\"linecolor\":\"white\",\"minorgridcolor\":\"white\",\"startlinecolor\":\"#2a3f5f\"},\"baxis\":{\"endlinecolor\":\"#2a3f5f\",\"gridcolor\":\"white\",\"linecolor\":\"white\",\"minorgridcolor\":\"white\",\"startlinecolor\":\"#2a3f5f\"},\"type\":\"carpet\"}],\"choropleth\":[{\"colorbar\":{\"outlinewidth\":0,\"ticks\":\"\"},\"type\":\"choropleth\"}],\"contour\":[{\"colorbar\":{\"outlinewidth\":0,\"ticks\":\"\"},\"colorscale\":[[0.0,\"#0d0887\"],[0.1111111111111111,\"#46039f\"],[0.2222222222222222,\"#7201a8\"],[0.3333333333333333,\"#9c179e\"],[0.4444444444444444,\"#bd3786\"],[0.5555555555555556,\"#d8576b\"],[0.6666666666666666,\"#ed7953\"],[0.7777777777777778,\"#fb9f3a\"],[0.8888888888888888,\"#fdca26\"],[1.0,\"#f0f921\"]],\"type\":\"contour\"}],\"contourcarpet\":[{\"colorbar\":{\"outlinewidth\":0,\"ticks\":\"\"},\"type\":\"contourcarpet\"}],\"heatmap\":[{\"colorbar\":{\"outlinewidth\":0,\"ticks\":\"\"},\"colorscale\":[[0.0,\"#0d0887\"],[0.1111111111111111,\"#46039f\"],[0.2222222222222222,\"#7201a8\"],[0.3333333333333333,\"#9c179e\"],[0.4444444444444444,\"#bd3786\"],[0.5555555555555556,\"#d8576b\"],[0.6666666666666666,\"#ed7953\"],[0.7777777777777778,\"#fb9f3a\"],[0.8888888888888888,\"#fdca26\"],[1.0,\"#f0f921\"]],\"type\":\"heatmap\"}],\"heatmapgl\":[{\"colorbar\":{\"outlinewidth\":0,\"ticks\":\"\"},\"colorscale\":[[0.0,\"#0d0887\"],[0.1111111111111111,\"#46039f\"],[0.2222222222222222,\"#7201a8\"],[0.3333333333333333,\"#9c179e\"],[0.4444444444444444,\"#bd3786\"],[0.5555555555555556,\"#d8576b\"],[0.6666666666666666,\"#ed7953\"],[0.7777777777777778,\"#fb9f3a\"],[0.8888888888888888,\"#fdca26\"],[1.0,\"#f0f921\"]],\"type\":\"heatmapgl\"}],\"histogram\":[{\"marker\":{\"pattern\":{\"fillmode\":\"overlay\",\"size\":10,\"solidity\":0.2}},\"type\":\"histogram\"}],\"histogram2d\":[{\"colorbar\":{\"outlinewidth\":0,\"ticks\":\"\"},\"colorscale\":[[0.0,\"#0d0887\"],[0.1111111111111111,\"#46039f\"],[0.2222222222222222,\"#7201a8\"],[0.3333333333333333,\"#9c179e\"],[0.4444444444444444,\"#bd3786\"],[0.5555555555555556,\"#d8576b\"],[0.6666666666666666,\"#ed7953\"],[0.7777777777777778,\"#fb9f3a\"],[0.8888888888888888,\"#fdca26\"],[1.0,\"#f0f921\"]],\"type\":\"histogram2d\"}],\"histogram2dcontour\":[{\"colorbar\":{\"outlinewidth\":0,\"ticks\":\"\"},\"colorscale\":[[0.0,\"#0d0887\"],[0.1111111111111111,\"#46039f\"],[0.2222222222222222,\"#7201a8\"],[0.3333333333333333,\"#9c179e\"],[0.4444444444444444,\"#bd3786\"],[0.5555555555555556,\"#d8576b\"],[0.6666666666666666,\"#ed7953\"],[0.7777777777777778,\"#fb9f3a\"],[0.8888888888888888,\"#fdca26\"],[1.0,\"#f0f921\"]],\"type\":\"histogram2dcontour\"}],\"mesh3d\":[{\"colorbar\":{\"outlinewidth\":0,\"ticks\":\"\"},\"type\":\"mesh3d\"}],\"parcoords\":[{\"line\":{\"colorbar\":{\"outlinewidth\":0,\"ticks\":\"\"}},\"type\":\"parcoords\"}],\"pie\":[{\"automargin\":true,\"type\":\"pie\"}],\"scatter\":[{\"marker\":{\"colorbar\":{\"outlinewidth\":0,\"ticks\":\"\"}},\"type\":\"scatter\"}],\"scatter3d\":[{\"line\":{\"colorbar\":{\"outlinewidth\":0,\"ticks\":\"\"}},\"marker\":{\"colorbar\":{\"outlinewidth\":0,\"ticks\":\"\"}},\"type\":\"scatter3d\"}],\"scattercarpet\":[{\"marker\":{\"colorbar\":{\"outlinewidth\":0,\"ticks\":\"\"}},\"type\":\"scattercarpet\"}],\"scattergeo\":[{\"marker\":{\"colorbar\":{\"outlinewidth\":0,\"ticks\":\"\"}},\"type\":\"scattergeo\"}],\"scattergl\":[{\"marker\":{\"colorbar\":{\"outlinewidth\":0,\"ticks\":\"\"}},\"type\":\"scattergl\"}],\"scattermapbox\":[{\"marker\":{\"colorbar\":{\"outlinewidth\":0,\"ticks\":\"\"}},\"type\":\"scattermapbox\"}],\"scatterpolar\":[{\"marker\":{\"colorbar\":{\"outlinewidth\":0,\"ticks\":\"\"}},\"type\":\"scatterpolar\"}],\"scatterpolargl\":[{\"marker\":{\"colorbar\":{\"outlinewidth\":0,\"ticks\":\"\"}},\"type\":\"scatterpolargl\"}],\"scatterternary\":[{\"marker\":{\"colorbar\":{\"outlinewidth\":0,\"ticks\":\"\"}},\"type\":\"scatterternary\"}],\"surface\":[{\"colorbar\":{\"outlinewidth\":0,\"ticks\":\"\"},\"colorscale\":[[0.0,\"#0d0887\"],[0.1111111111111111,\"#46039f\"],[0.2222222222222222,\"#7201a8\"],[0.3333333333333333,\"#9c179e\"],[0.4444444444444444,\"#bd3786\"],[0.5555555555555556,\"#d8576b\"],[0.6666666666666666,\"#ed7953\"],[0.7777777777777778,\"#fb9f3a\"],[0.8888888888888888,\"#fdca26\"],[1.0,\"#f0f921\"]],\"type\":\"surface\"}],\"table\":[{\"cells\":{\"fill\":{\"color\":\"#EBF0F8\"},\"line\":{\"color\":\"white\"}},\"header\":{\"fill\":{\"color\":\"#C8D4E3\"},\"line\":{\"color\":\"white\"}},\"type\":\"table\"}]},\"layout\":{\"annotationdefaults\":{\"arrowcolor\":\"#2a3f5f\",\"arrowhead\":0,\"arrowwidth\":1},\"autotypenumbers\":\"strict\",\"coloraxis\":{\"colorbar\":{\"outlinewidth\":0,\"ticks\":\"\"}},\"colorscale\":{\"diverging\":[[0,\"#8e0152\"],[0.1,\"#c51b7d\"],[0.2,\"#de77ae\"],[0.3,\"#f1b6da\"],[0.4,\"#fde0ef\"],[0.5,\"#f7f7f7\"],[0.6,\"#e6f5d0\"],[0.7,\"#b8e186\"],[0.8,\"#7fbc41\"],[0.9,\"#4d9221\"],[1,\"#276419\"]],\"sequential\":[[0.0,\"#0d0887\"],[0.1111111111111111,\"#46039f\"],[0.2222222222222222,\"#7201a8\"],[0.3333333333333333,\"#9c179e\"],[0.4444444444444444,\"#bd3786\"],[0.5555555555555556,\"#d8576b\"],[0.6666666666666666,\"#ed7953\"],[0.7777777777777778,\"#fb9f3a\"],[0.8888888888888888,\"#fdca26\"],[1.0,\"#f0f921\"]],\"sequentialminus\":[[0.0,\"#0d0887\"],[0.1111111111111111,\"#46039f\"],[0.2222222222222222,\"#7201a8\"],[0.3333333333333333,\"#9c179e\"],[0.4444444444444444,\"#bd3786\"],[0.5555555555555556,\"#d8576b\"],[0.6666666666666666,\"#ed7953\"],[0.7777777777777778,\"#fb9f3a\"],[0.8888888888888888,\"#fdca26\"],[1.0,\"#f0f921\"]]},\"colorway\":[\"#636efa\",\"#EF553B\",\"#00cc96\",\"#ab63fa\",\"#FFA15A\",\"#19d3f3\",\"#FF6692\",\"#B6E880\",\"#FF97FF\",\"#FECB52\"],\"font\":{\"color\":\"#2a3f5f\"},\"geo\":{\"bgcolor\":\"white\",\"lakecolor\":\"white\",\"landcolor\":\"#E5ECF6\",\"showlakes\":true,\"showland\":true,\"subunitcolor\":\"white\"},\"hoverlabel\":{\"align\":\"left\"},\"hovermode\":\"closest\",\"mapbox\":{\"style\":\"light\"},\"paper_bgcolor\":\"white\",\"plot_bgcolor\":\"#E5ECF6\",\"polar\":{\"angularaxis\":{\"gridcolor\":\"white\",\"linecolor\":\"white\",\"ticks\":\"\"},\"bgcolor\":\"#E5ECF6\",\"radialaxis\":{\"gridcolor\":\"white\",\"linecolor\":\"white\",\"ticks\":\"\"}},\"scene\":{\"xaxis\":{\"backgroundcolor\":\"#E5ECF6\",\"gridcolor\":\"white\",\"gridwidth\":2,\"linecolor\":\"white\",\"showbackground\":true,\"ticks\":\"\",\"zerolinecolor\":\"white\"},\"yaxis\":{\"backgroundcolor\":\"#E5ECF6\",\"gridcolor\":\"white\",\"gridwidth\":2,\"linecolor\":\"white\",\"showbackground\":true,\"ticks\":\"\",\"zerolinecolor\":\"white\"},\"zaxis\":{\"backgroundcolor\":\"#E5ECF6\",\"gridcolor\":\"white\",\"gridwidth\":2,\"linecolor\":\"white\",\"showbackground\":true,\"ticks\":\"\",\"zerolinecolor\":\"white\"}},\"shapedefaults\":{\"line\":{\"color\":\"#2a3f5f\"}},\"ternary\":{\"aaxis\":{\"gridcolor\":\"white\",\"linecolor\":\"white\",\"ticks\":\"\"},\"baxis\":{\"gridcolor\":\"white\",\"linecolor\":\"white\",\"ticks\":\"\"},\"bgcolor\":\"#E5ECF6\",\"caxis\":{\"gridcolor\":\"white\",\"linecolor\":\"white\",\"ticks\":\"\"}},\"title\":{\"x\":0.05},\"xaxis\":{\"automargin\":true,\"gridcolor\":\"white\",\"linecolor\":\"white\",\"ticks\":\"\",\"title\":{\"standoff\":15},\"zerolinecolor\":\"white\",\"zerolinewidth\":2},\"yaxis\":{\"automargin\":true,\"gridcolor\":\"white\",\"linecolor\":\"white\",\"ticks\":\"\",\"title\":{\"standoff\":15},\"zerolinecolor\":\"white\",\"zerolinewidth\":2}}},\"xaxis\":{\"anchor\":\"y\",\"domain\":[0.0,1.0],\"title\":{\"text\":\"match_played\"},\"type\":\"log\"},\"yaxis\":{\"anchor\":\"x\",\"domain\":[0.0,1.0],\"title\":{\"text\":\"tackles\"}},\"legend\":{\"title\":{\"text\":\"position\"},\"tracegroupgap\":0,\"itemsizing\":\"constant\"},\"margin\":{\"t\":60}},                        {\"responsive\": true}                    ).then(function(){\n",
       "                            \n",
       "var gd = document.getElementById('b668db28-314e-4a29-8403-1a3449c34077');\n",
       "var x = new MutationObserver(function (mutations, observer) {{\n",
       "        var display = window.getComputedStyle(gd).display;\n",
       "        if (!display || display === 'none') {{\n",
       "            console.log([gd, 'removed!']);\n",
       "            Plotly.purge(gd);\n",
       "            observer.disconnect();\n",
       "        }}\n",
       "}});\n",
       "\n",
       "// Listen for the removal of the full notebook cells\n",
       "var notebookContainer = gd.closest('#notebook-container');\n",
       "if (notebookContainer) {{\n",
       "    x.observe(notebookContainer, {childList: true});\n",
       "}}\n",
       "\n",
       "// Listen for the clearing of the current output cell\n",
       "var outputEl = gd.closest('.output');\n",
       "if (outputEl) {{\n",
       "    x.observe(outputEl, {childList: true});\n",
       "}}\n",
       "\n",
       "                        })                };                });            </script>        </div>"
      ]
     },
     "metadata": {},
     "output_type": "display_data"
    }
   ],
   "source": [
    "import plotly.express as px\n",
    "df = px.data.gapminder()\n",
    "\n",
    "fig = px.scatter(defense_df, x=\"match_played\", y=\"tackles\",\n",
    "         size=\"tackle_success\", color=\"position\",\n",
    "         hover_name=\"player_name\", log_x=True, size_max=30)\n",
    "fig.show()"
   ]
  },
  {
   "cell_type": "markdown",
   "id": "b3ade289",
   "metadata": {},
   "source": [
    "## SQL"
   ]
  },
  {
   "cell_type": "code",
   "execution_count": 226,
   "id": "6a4447cd",
   "metadata": {
    "scrolled": true
   },
   "outputs": [
    {
     "data": {
      "text/plain": [
       "[('Griezmann', 12, 4, 0.0),\n",
       " ('Luis Suárez', 8, 1, 0.0),\n",
       " ('Correa', 1, 1, 1.0),\n",
       " ('Correa', 9, 1, 0.0),\n",
       " ('De Paul', 13, 1, 0.0),\n",
       " ('Renan Lodi', 4, 1, 0.0),\n",
       " ('João Félix', 12, 1, 0.0)]"
      ]
     },
     "execution_count": 226,
     "metadata": {},
     "output_type": "execute_result"
    },
    {
     "data": {
      "image/png": "[encoded data removed]",
      "text/plain": [
       "<Figure size 288x288 with 1 Axes>"
      ]
     },
     "metadata": {},
     "output_type": "display_data"
    }
   ],
   "source": [
    "import sqlite3\n",
    "import pandas as pd\n",
    "\n",
    "con = sqlite3.connect(\"/Users/sandeepk/Desktop/test-DS/DS311-Technologies-in-Data-Analytic/Week_4_SQL_Queries/Lab_Assignment/data.sqllite\")\n",
    "cursor = con.cursor()\n",
    "\n",
    "df_goals.to_sql('goals', con, if_exists='append', index = False)\n",
    "df_attampts.to_sql('attempts', con, if_exists='append', index = False)\n",
    "\n",
    "\n",
    "pic=imageio.imread('/Users/sandeepk/Downloads/Atletico Madrid.png')\n",
    "\n",
    "plt.figure(figsize=(4,4))\n",
    "plt.imshow(pic);\n",
    "plt.axis('off');\n",
    "\n",
    "#Your code here\n",
    "query2 = \"\"\"\n",
    "Select DISTINCT(G.player_name), a.total_attempts, g.goals, ROUND(g.goals/a.total_attempts)\n",
    "\n",
    "FROM goals g INNER JOIN attempts a ON g.player_name = a.player_name\n",
    "\n",
    "WHERE g.club=='Atlético'\n",
    "\"\"\"\n",
    "cursor.execute(query2)\n",
    "cursor.fetchall()\n",
    "\n"
   ]
  },
  {
   "cell_type": "code",
   "execution_count": 233,
   "id": "6ebbc74b",
   "metadata": {},
   "outputs": [
    {
     "data": {
      "text/plain": [
       "[('Real Madrid', 4.666666666666667)]"
      ]
     },
     "execution_count": 233,
     "metadata": {},
     "output_type": "execute_result"
    }
   ],
   "source": [
    "query3 = \"\"\"\n",
    "SELECT g.club, AVG(g.goals)\n",
    "\n",
    "FROM goals g\n",
    "\n",
    "WHERE g.club == 'Real Madrid'\n",
    "\n",
    "GROUP BY club\n",
    "\n",
    "\"\"\"\n",
    "\n",
    "cursor.execute(query3)\n",
    "cursor.fetchall()"
   ]
  }
 ],
 "metadata": {
  "kernelspec": {
   "display_name": "Python 3 (ipykernel)",
   "language": "python",
   "name": "python3"
  },
  "language_info": {
   "codemirror_mode": {
    "name": "ipython",
    "version": 3
   },
   "file_extension": ".py",
   "mimetype": "text/x-python",
   "name": "python",
   "nbconvert_exporter": "python",
   "pygments_lexer": "ipython3",
   "version": "3.9.7"
  }
 },
 "nbformat": 4,
 "nbformat_minor": 5
}
